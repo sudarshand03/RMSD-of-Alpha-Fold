{
 "cells": [
  {
   "cell_type": "code",
   "execution_count": 7,
   "id": "db06a5ae-2e69-4c1b-b955-f1e4c2d20c49",
   "metadata": {},
   "outputs": [],
   "source": [
    "import mdtraj as md\n",
    "import numpy as np\n",
    "import matplotlib.pyplot as plt"
   ]
  },
  {
   "cell_type": "code",
   "execution_count": 22,
   "id": "509e9a28-8ae4-4f46-9fbf-b20d13e033d8",
   "metadata": {},
   "outputs": [
    {
     "data": {
      "text/plain": [
       "array([  0,   1,   2,   3,   4,   5,   6,   8,  10,  11,  12,  14,  17,\n",
       "        18,  19,  20,  21,  22,  23,  25,  29,  30,  31,  33,  39,  40,\n",
       "        41,  43,  48,  49,  50,  52,  54,  55,  56,  58,  63,  64,  65,\n",
       "        67,  72,  73,  74,  76,  86,  87,  88,  90,  98,  99, 100, 102,\n",
       "       108, 109, 110, 112, 113, 114, 115, 117, 119, 120, 121, 123, 127,\n",
       "       128, 129, 131, 134, 135, 136, 138, 145, 146, 147, 149, 150, 151,\n",
       "       152, 154, 159, 160, 161, 163, 164, 165, 166, 168, 173, 174, 175,\n",
       "       177, 183, 184, 185, 187, 191, 192, 193, 195, 199, 200, 201, 203,\n",
       "       207, 208, 209, 211, 218, 219, 220, 222, 225, 226, 227, 229, 232,\n",
       "       233, 234, 236, 243, 244, 245, 247, 251, 252, 253, 254, 255, 256,\n",
       "       257, 259, 260, 261, 262, 264, 271, 272, 273, 275, 279, 280, 281,\n",
       "       283, 286, 287, 288, 290, 297, 298, 299, 301, 306, 307, 308, 310,\n",
       "       317, 318, 319, 321, 325, 326, 327, 329, 334, 335, 336, 338, 341,\n",
       "       342, 343, 345, 349, 350, 351, 353, 355, 356, 357, 359, 367, 368,\n",
       "       369, 371, 372, 373, 374, 376, 380, 381, 382, 384, 386, 387, 388,\n",
       "       390, 397, 398, 399, 401, 408, 409, 410, 412, 413, 414, 415, 417,\n",
       "       422, 423, 424, 425, 426, 427, 428, 430, 435, 436, 437, 439, 443,\n",
       "       444, 445, 447, 452, 453, 454, 456, 462, 463, 464, 466, 468, 469,\n",
       "       470, 472, 479, 480, 481, 483, 486, 487, 488, 490, 495, 496, 497,\n",
       "       499, 504, 505, 506, 508, 513, 514, 515, 516, 517, 518, 519, 521,\n",
       "       526, 527, 528, 530, 533, 534, 535, 537, 540, 541, 542, 544, 548,\n",
       "       549, 550, 552, 556, 557, 558, 559, 560, 561, 562, 564, 568, 569,\n",
       "       570, 572, 574, 575, 576, 578, 583, 584, 585, 587, 594, 595, 596,\n",
       "       598, 602, 603, 604, 606, 608, 609, 610, 612, 616, 617, 618, 620,\n",
       "       623, 624, 625, 627, 631, 632, 633, 635, 639, 640, 641, 643, 647,\n",
       "       648, 649, 651, 653, 654, 655, 657, 665, 666, 667, 669, 677, 678,\n",
       "       679, 681, 686, 687, 688, 690, 695, 696, 697, 699, 705, 706, 707,\n",
       "       709, 712, 713, 714, 716, 720, 721, 722, 724, 732, 733, 734, 736,\n",
       "       743, 744, 745, 747, 752, 753, 754, 756, 760, 761, 762, 764, 769,\n",
       "       770, 771, 773, 777, 778, 779, 781, 788, 789, 790, 792, 800, 801,\n",
       "       802, 804, 807, 808, 809, 811, 815, 816, 817, 819, 823, 824, 825,\n",
       "       827, 832, 833, 834, 836, 841, 842, 843, 845, 849, 850, 851, 853,\n",
       "       855, 856, 857, 859, 861, 862, 863, 865, 869, 870, 871, 873, 877,\n",
       "       878, 879, 881, 885, 886, 887, 889, 897, 898, 899, 901, 905, 906,\n",
       "       907, 909, 913, 914, 915, 917, 920, 921, 922, 924, 928, 929, 930,\n",
       "       932, 935, 936, 937, 939, 943, 944, 945, 947, 950, 951, 952, 954])"
      ]
     },
     "execution_count": 22,
     "metadata": {},
     "output_type": "execute_result"
    }
   ],
   "source": [
    "pld_af = md.load_pdb('2PLD_main.pdb')\n",
    "pld_crystal=md.load_pdb('2pld.pdb')\n",
    "\n",
    "backbone_crystal = pld_crystal.topology.select(\"backbone\")\n",
    "backbone_af=pld_af.topology.select(\"backbone\")\n",
    "pld_crystal\n",
    "\n",
    "avg_distance_between_atoms= np.mean(np.sqrt(np.sum((pld_crystal.xyz[:, 0, :] - pld_af.xyz[:, 21, :])**2, axis=1))) #average distance between two atoms for pld_crystal\n",
    "\n",
    "avg_distance_between_atoms\n",
    "\n",
    "backbone_crystal\n",
    "\n",
    "backbone_af"
   ]
  },
  {
   "cell_type": "code",
   "execution_count": 10,
   "id": "0ee14be6-a183-4054-95ec-d6866c61295e",
   "metadata": {},
   "outputs": [
    {
     "name": "stdout",
     "output_type": "stream",
     "text": [
      "<mdtraj.Trajectory with 1 frames, 959 atoms, 117 residues, without unitcells>\n"
     ]
    }
   ],
   "source": [
    "print(pld_af)"
   ]
  },
  {
   "cell_type": "code",
   "execution_count": 6,
   "id": "ed3d04de-8893-4eff-aa35-6d43746c2d9d",
   "metadata": {},
   "outputs": [
    {
     "name": "stdout",
     "output_type": "stream",
     "text": [
      "<mdtraj.Trajectory with 1 frames, 1906 atoms, 117 residues, without unitcells>\n"
     ]
    }
   ],
   "source": [
    "print(pld_crystal)"
   ]
  },
  {
   "cell_type": "code",
   "execution_count": 29,
   "id": "39da079d-5a56-4c7d-8e68-d2b165302c1b",
   "metadata": {},
   "outputs": [],
   "source": [
    "import mdtraj as md\n",
    "import numpy as np\n",
    "\n",
    "def compute_rmsd(pdb_file_1, pdb_file_2):\n",
    "    # Load the trajectories\n",
    "    traj1 = md.load(pdb_file_1)\n",
    "    traj2 = md.load(pdb_file_2)\n",
    "\n",
    "    # Check the number of residues in each file are the same\n",
    "    if traj1.n_residues != traj2.n_residues:\n",
    "        raise ValueError(\"The two PDB files have different number of residues\")\n",
    "\n",
    "    # Select the backbone atoms\n",
    "    backbone_indices = traj1.topology.select(\"backbone\")\n",
    "\n",
    "    # Superimpose traj2 onto traj1 for the selected backbone atoms\n",
    "    traj2.superpose(traj1, atom_indices=backbone_indices)\n",
    "\n",
    "    # Extract the coordinates of the backbone atoms\n",
    "    coords_1 = traj1.xyz[0][backbone_indices]\n",
    "    coords_2 = traj2.xyz[0][backbone_indices]\n",
    "\n",
    "    # Compute the RMSD\n",
    "    diff = coords_1 - coords_2\n",
    "    rmsd = np.sqrt(np.mean(np.sum(diff**2, axis=1)))\n",
    "\n",
    "    return rmsd\n"
   ]
  },
  {
   "cell_type": "code",
   "execution_count": 42,
   "id": "a5e0bdb4-856f-4a57-bd79-38bf33d61cdc",
   "metadata": {},
   "outputs": [
    {
     "data": {
      "text/plain": [
       "1.4645252"
      ]
     },
     "execution_count": 42,
     "metadata": {},
     "output_type": "execute_result"
    }
   ],
   "source": [
    "rmsd_pld=compute_rmsd('2PLD_main.pdb','2pld.pdb')\n",
    "rmsd_pld"
   ]
  },
  {
   "cell_type": "code",
   "execution_count": null,
   "id": "c6ebbbf6-3889-4fcd-bfb6-35cca0e15c5a",
   "metadata": {},
   "outputs": [],
   "source": []
  },
  {
   "cell_type": "code",
   "execution_count": null,
   "id": "5a5ff91f-c1b3-4a09-96ce-0d2e63bc4d62",
   "metadata": {},
   "outputs": [],
   "source": []
  }
 ],
 "metadata": {
  "kernelspec": {
   "display_name": "Python 3 (ipykernel)",
   "language": "python",
   "name": "python3"
  },
  "language_info": {
   "codemirror_mode": {
    "name": "ipython",
    "version": 3
   },
   "file_extension": ".py",
   "mimetype": "text/x-python",
   "name": "python",
   "nbconvert_exporter": "python",
   "pygments_lexer": "ipython3",
   "version": "3.8.16"
  }
 },
 "nbformat": 4,
 "nbformat_minor": 5
}
